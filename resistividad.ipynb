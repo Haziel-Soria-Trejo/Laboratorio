{
 "cells": [
  {
   "cell_type": "code",
   "execution_count": 2,
   "metadata": {},
   "outputs": [],
   "source": [
    "import numpy as np\n",
    "import pandas as pd\n",
    "import matplotlib.pyplot as plt"
   ]
  },
  {
   "cell_type": "code",
   "execution_count": 3,
   "metadata": {},
   "outputs": [
    {
     "data": {
      "text/html": [
       "<div>\n",
       "<style scoped>\n",
       "    .dataframe tbody tr th:only-of-type {\n",
       "        vertical-align: middle;\n",
       "    }\n",
       "\n",
       "    .dataframe tbody tr th {\n",
       "        vertical-align: top;\n",
       "    }\n",
       "\n",
       "    .dataframe thead th {\n",
       "        text-align: right;\n",
       "    }\n",
       "</style>\n",
       "<table border=\"1\" class=\"dataframe\">\n",
       "  <thead>\n",
       "    <tr style=\"text-align: right;\">\n",
       "      <th></th>\n",
       "      <th>Distancia</th>\n",
       "      <th>Corriente</th>\n",
       "      <th>V_laton</th>\n",
       "      <th>V_hierro</th>\n",
       "      <th>V_cobre</th>\n",
       "    </tr>\n",
       "  </thead>\n",
       "  <tbody>\n",
       "    <tr>\n",
       "      <th>0</th>\n",
       "      <td>13</td>\n",
       "      <td>1.0</td>\n",
       "      <td>1.9</td>\n",
       "      <td>2.7</td>\n",
       "      <td>1.6</td>\n",
       "    </tr>\n",
       "    <tr>\n",
       "      <th>1</th>\n",
       "      <td>13</td>\n",
       "      <td>1.4</td>\n",
       "      <td>2.7</td>\n",
       "      <td>4.1</td>\n",
       "      <td>2.3</td>\n",
       "    </tr>\n",
       "    <tr>\n",
       "      <th>2</th>\n",
       "      <td>13</td>\n",
       "      <td>1.8</td>\n",
       "      <td>3.7</td>\n",
       "      <td>5.2</td>\n",
       "      <td>2.9</td>\n",
       "    </tr>\n",
       "    <tr>\n",
       "      <th>3</th>\n",
       "      <td>13</td>\n",
       "      <td>2.2</td>\n",
       "      <td>4.4</td>\n",
       "      <td>6.5</td>\n",
       "      <td>3.5</td>\n",
       "    </tr>\n",
       "    <tr>\n",
       "      <th>4</th>\n",
       "      <td>13</td>\n",
       "      <td>2.6</td>\n",
       "      <td>5.3</td>\n",
       "      <td>7.7</td>\n",
       "      <td>4.0</td>\n",
       "    </tr>\n",
       "  </tbody>\n",
       "</table>\n",
       "</div>"
      ],
      "text/plain": [
       "   Distancia  Corriente  V_laton  V_hierro  V_cobre\n",
       "0         13        1.0      1.9       2.7      1.6\n",
       "1         13        1.4      2.7       4.1      2.3\n",
       "2         13        1.8      3.7       5.2      2.9\n",
       "3         13        2.2      4.4       6.5      3.5\n",
       "4         13        2.6      5.3       7.7      4.0"
      ]
     },
     "execution_count": 3,
     "metadata": {},
     "output_type": "execute_result"
    }
   ],
   "source": [
    "df = pd.read_csv('resistividad.csv')\n",
    "df.head()"
   ]
  },
  {
   "cell_type": "markdown",
   "metadata": {},
   "source": [
    "## Preprocesamiento de datos"
   ]
  },
  {
   "cell_type": "code",
   "execution_count": 4,
   "metadata": {},
   "outputs": [],
   "source": [
    "df['Distancia'] = df['Distancia']*0.01 # cm a m\n",
    "#df['Corriente'] = df['Corriente']*0.001 # mv a A"
   ]
  },
  {
   "cell_type": "code",
   "execution_count": 5,
   "metadata": {},
   "outputs": [],
   "source": [
    "for i in df.columns:\n",
    "    if 'V' in i:\n",
    "        df[i] = df[i]*0.001 #pasar de mv a volts"
   ]
  },
  {
   "cell_type": "code",
   "execution_count": 6,
   "metadata": {},
   "outputs": [
    {
     "data": {
      "text/html": [
       "<div>\n",
       "<style scoped>\n",
       "    .dataframe tbody tr th:only-of-type {\n",
       "        vertical-align: middle;\n",
       "    }\n",
       "\n",
       "    .dataframe tbody tr th {\n",
       "        vertical-align: top;\n",
       "    }\n",
       "\n",
       "    .dataframe thead th {\n",
       "        text-align: right;\n",
       "    }\n",
       "</style>\n",
       "<table border=\"1\" class=\"dataframe\">\n",
       "  <thead>\n",
       "    <tr style=\"text-align: right;\">\n",
       "      <th></th>\n",
       "      <th>Distancia</th>\n",
       "      <th>Corriente</th>\n",
       "      <th>V_laton</th>\n",
       "      <th>V_hierro</th>\n",
       "      <th>V_cobre</th>\n",
       "    </tr>\n",
       "  </thead>\n",
       "  <tbody>\n",
       "    <tr>\n",
       "      <th>0</th>\n",
       "      <td>0.13</td>\n",
       "      <td>1.0</td>\n",
       "      <td>0.0019</td>\n",
       "      <td>0.0027</td>\n",
       "      <td>0.0016</td>\n",
       "    </tr>\n",
       "    <tr>\n",
       "      <th>1</th>\n",
       "      <td>0.13</td>\n",
       "      <td>1.4</td>\n",
       "      <td>0.0027</td>\n",
       "      <td>0.0041</td>\n",
       "      <td>0.0023</td>\n",
       "    </tr>\n",
       "    <tr>\n",
       "      <th>2</th>\n",
       "      <td>0.13</td>\n",
       "      <td>1.8</td>\n",
       "      <td>0.0037</td>\n",
       "      <td>0.0052</td>\n",
       "      <td>0.0029</td>\n",
       "    </tr>\n",
       "    <tr>\n",
       "      <th>3</th>\n",
       "      <td>0.13</td>\n",
       "      <td>2.2</td>\n",
       "      <td>0.0044</td>\n",
       "      <td>0.0065</td>\n",
       "      <td>0.0035</td>\n",
       "    </tr>\n",
       "    <tr>\n",
       "      <th>4</th>\n",
       "      <td>0.13</td>\n",
       "      <td>2.6</td>\n",
       "      <td>0.0053</td>\n",
       "      <td>0.0077</td>\n",
       "      <td>0.0040</td>\n",
       "    </tr>\n",
       "  </tbody>\n",
       "</table>\n",
       "</div>"
      ],
      "text/plain": [
       "   Distancia  Corriente  V_laton  V_hierro  V_cobre\n",
       "0       0.13        1.0   0.0019    0.0027   0.0016\n",
       "1       0.13        1.4   0.0027    0.0041   0.0023\n",
       "2       0.13        1.8   0.0037    0.0052   0.0029\n",
       "3       0.13        2.2   0.0044    0.0065   0.0035\n",
       "4       0.13        2.6   0.0053    0.0077   0.0040"
      ]
     },
     "execution_count": 6,
     "metadata": {},
     "output_type": "execute_result"
    }
   ],
   "source": [
    "df.head()"
   ]
  },
  {
   "cell_type": "code",
   "execution_count": 7,
   "metadata": {},
   "outputs": [],
   "source": [
    "# De antemano conocemos los siguientes parámetros\n",
    "laton_diam = 0.0065\n",
    "hierro_diam = 0.0066\n",
    "\n",
    "cobre_diam_ext=0.0065\n",
    "cobre_diam_int = 0.0046\n",
    "\n"
   ]
  },
  {
   "cell_type": "code",
   "execution_count": 8,
   "metadata": {},
   "outputs": [],
   "source": [
    "#son las mismas mediciones para cada tubo\n",
    "A = np.pi*(laton_diam/2)**2\n",
    "L = 0.4"
   ]
  },
  {
   "cell_type": "code",
   "execution_count": 9,
   "metadata": {},
   "outputs": [
    {
     "data": {
      "text/plain": [
       "3.318307240354219e-05"
      ]
     },
     "execution_count": 9,
     "metadata": {},
     "output_type": "execute_result"
    }
   ],
   "source": [
    "A"
   ]
  },
  {
   "cell_type": "markdown",
   "metadata": {},
   "source": [
    "## Análisis"
   ]
  },
  {
   "cell_type": "code",
   "execution_count": 10,
   "metadata": {},
   "outputs": [
    {
     "data": {
      "text/plain": [
       "'cobre'"
      ]
     },
     "execution_count": 10,
     "metadata": {},
     "output_type": "execute_result"
    }
   ],
   "source": [
    "a = \"v_cobre\"\n",
    "a[2:]"
   ]
  },
  {
   "cell_type": "code",
   "execution_count": 11,
   "metadata": {},
   "outputs": [],
   "source": [
    "# R = v/I\n",
    "corriente = df['Corriente']\n",
    "for i in df.columns:\n",
    "    if 'V' in i:\n",
    "        df[f'R_{i[2:]}'] = df[i]/corriente"
   ]
  },
  {
   "cell_type": "code",
   "execution_count": 12,
   "metadata": {},
   "outputs": [
    {
     "data": {
      "text/plain": [
       "Index(['Distancia', 'Corriente', 'V_laton', 'V_hierro', 'V_cobre', 'R_laton',\n",
       "       'R_hierro', 'R_cobre'],\n",
       "      dtype='object')"
      ]
     },
     "execution_count": 12,
     "metadata": {},
     "output_type": "execute_result"
    }
   ],
   "source": [
    "df.columns"
   ]
  },
  {
   "cell_type": "markdown",
   "metadata": {},
   "source": [
    "$\\rho =  \\frac{AR}{L}$"
   ]
  },
  {
   "cell_type": "code",
   "execution_count": 13,
   "metadata": {},
   "outputs": [],
   "source": [
    "rho = pd.DataFrame()"
   ]
  },
  {
   "cell_type": "code",
   "execution_count": 14,
   "metadata": {},
   "outputs": [],
   "source": [
    "metales = ['laton','cobre','hierro']\n",
    "distancia = df['Distancia']\n",
    "for m in metales:\n",
    "    rho[m] = (A*df[f'R_{m}'])/distancia"
   ]
  },
  {
   "cell_type": "code",
   "execution_count": 15,
   "metadata": {},
   "outputs": [
    {
     "data": {
      "text/plain": [
       "0     0.13\n",
       "1     0.13\n",
       "2     0.13\n",
       "3     0.13\n",
       "4     0.13\n",
       "5     0.13\n",
       "6     0.13\n",
       "7     0.13\n",
       "8     0.13\n",
       "9     0.13\n",
       "10    0.13\n",
       "11    0.26\n",
       "12    0.26\n",
       "13    0.26\n",
       "14    0.26\n",
       "15    0.26\n",
       "16    0.26\n",
       "17    0.26\n",
       "18    0.26\n",
       "19    0.26\n",
       "20    0.26\n",
       "21    0.26\n",
       "22    0.40\n",
       "23    0.40\n",
       "24    0.40\n",
       "25    0.40\n",
       "26    0.40\n",
       "27    0.40\n",
       "28    0.40\n",
       "29    0.40\n",
       "30    0.40\n",
       "31    0.40\n",
       "32    0.40\n",
       "Name: Distancia, dtype: float64"
      ]
     },
     "execution_count": 15,
     "metadata": {},
     "output_type": "execute_result"
    }
   ],
   "source": [
    "distancia"
   ]
  },
  {
   "cell_type": "code",
   "execution_count": 16,
   "metadata": {},
   "outputs": [
    {
     "data": {
      "text/html": [
       "<div>\n",
       "<style scoped>\n",
       "    .dataframe tbody tr th:only-of-type {\n",
       "        vertical-align: middle;\n",
       "    }\n",
       "\n",
       "    .dataframe tbody tr th {\n",
       "        vertical-align: top;\n",
       "    }\n",
       "\n",
       "    .dataframe thead th {\n",
       "        text-align: right;\n",
       "    }\n",
       "</style>\n",
       "<table border=\"1\" class=\"dataframe\">\n",
       "  <thead>\n",
       "    <tr style=\"text-align: right;\">\n",
       "      <th></th>\n",
       "      <th>laton</th>\n",
       "      <th>cobre</th>\n",
       "      <th>hierro</th>\n",
       "    </tr>\n",
       "  </thead>\n",
       "  <tbody>\n",
       "    <tr>\n",
       "      <th>0</th>\n",
       "      <td>4.849834e-07</td>\n",
       "      <td>4.084070e-07</td>\n",
       "      <td>6.891869e-07</td>\n",
       "    </tr>\n",
       "    <tr>\n",
       "      <th>1</th>\n",
       "      <td>4.922763e-07</td>\n",
       "      <td>4.193465e-07</td>\n",
       "      <td>7.475308e-07</td>\n",
       "    </tr>\n",
       "    <tr>\n",
       "      <th>2</th>\n",
       "      <td>5.246896e-07</td>\n",
       "      <td>4.112432e-07</td>\n",
       "      <td>7.374016e-07</td>\n",
       "    </tr>\n",
       "    <tr>\n",
       "      <th>3</th>\n",
       "      <td>5.105088e-07</td>\n",
       "      <td>4.060866e-07</td>\n",
       "      <td>7.541607e-07</td>\n",
       "    </tr>\n",
       "    <tr>\n",
       "      <th>4</th>\n",
       "      <td>5.203263e-07</td>\n",
       "      <td>3.926991e-07</td>\n",
       "      <td>7.559457e-07</td>\n",
       "    </tr>\n",
       "    <tr>\n",
       "      <th>5</th>\n",
       "      <td>5.105088e-07</td>\n",
       "      <td>3.998986e-07</td>\n",
       "      <td>7.572547e-07</td>\n",
       "    </tr>\n",
       "    <tr>\n",
       "      <th>6</th>\n",
       "      <td>5.030013e-07</td>\n",
       "      <td>3.978966e-07</td>\n",
       "      <td>7.432408e-07</td>\n",
       "    </tr>\n",
       "    <tr>\n",
       "      <th>7</th>\n",
       "      <td>5.037916e-07</td>\n",
       "      <td>3.895988e-07</td>\n",
       "      <td>7.321771e-07</td>\n",
       "    </tr>\n",
       "    <tr>\n",
       "      <th>8</th>\n",
       "      <td>5.105088e-07</td>\n",
       "      <td>4.011141e-07</td>\n",
       "      <td>7.596857e-07</td>\n",
       "    </tr>\n",
       "    <tr>\n",
       "      <th>9</th>\n",
       "      <td>5.105088e-07</td>\n",
       "      <td>3.939796e-07</td>\n",
       "      <td>7.435672e-07</td>\n",
       "    </tr>\n",
       "    <tr>\n",
       "      <th>10</th>\n",
       "      <td>5.054037e-07</td>\n",
       "      <td>3.930918e-07</td>\n",
       "      <td>7.504479e-07</td>\n",
       "    </tr>\n",
       "    <tr>\n",
       "      <th>11</th>\n",
       "      <td>1.914408e-07</td>\n",
       "      <td>1.659154e-07</td>\n",
       "      <td>4.849834e-07</td>\n",
       "    </tr>\n",
       "    <tr>\n",
       "      <th>12</th>\n",
       "      <td>2.005570e-07</td>\n",
       "      <td>1.823246e-07</td>\n",
       "      <td>5.287413e-07</td>\n",
       "    </tr>\n",
       "    <tr>\n",
       "      <th>13</th>\n",
       "      <td>1.985312e-07</td>\n",
       "      <td>1.772600e-07</td>\n",
       "      <td>4.892376e-07</td>\n",
       "    </tr>\n",
       "    <tr>\n",
       "      <th>14</th>\n",
       "      <td>2.030433e-07</td>\n",
       "      <td>1.798383e-07</td>\n",
       "      <td>4.931051e-07</td>\n",
       "    </tr>\n",
       "    <tr>\n",
       "      <th>15</th>\n",
       "      <td>2.012583e-07</td>\n",
       "      <td>1.767146e-07</td>\n",
       "      <td>4.908739e-07</td>\n",
       "    </tr>\n",
       "    <tr>\n",
       "      <th>16</th>\n",
       "      <td>1.999493e-07</td>\n",
       "      <td>1.786781e-07</td>\n",
       "      <td>4.849834e-07</td>\n",
       "    </tr>\n",
       "    <tr>\n",
       "      <th>17</th>\n",
       "      <td>1.989483e-07</td>\n",
       "      <td>1.764258e-07</td>\n",
       "      <td>4.879864e-07</td>\n",
       "    </tr>\n",
       "    <tr>\n",
       "      <th>18</th>\n",
       "      <td>1.947994e-07</td>\n",
       "      <td>1.712891e-07</td>\n",
       "      <td>4.769227e-07</td>\n",
       "    </tr>\n",
       "    <tr>\n",
       "      <th>19</th>\n",
       "      <td>2.035958e-07</td>\n",
       "      <td>1.792858e-07</td>\n",
       "      <td>5.044313e-07</td>\n",
       "    </tr>\n",
       "    <tr>\n",
       "      <th>20</th>\n",
       "      <td>1.997643e-07</td>\n",
       "      <td>1.775683e-07</td>\n",
       "      <td>4.827638e-07</td>\n",
       "    </tr>\n",
       "    <tr>\n",
       "      <th>21</th>\n",
       "      <td>1.990984e-07</td>\n",
       "      <td>1.761255e-07</td>\n",
       "      <td>4.875359e-07</td>\n",
       "    </tr>\n",
       "    <tr>\n",
       "      <th>22</th>\n",
       "      <td>1.908027e-07</td>\n",
       "      <td>1.327323e-07</td>\n",
       "      <td>4.064926e-07</td>\n",
       "    </tr>\n",
       "    <tr>\n",
       "      <th>23</th>\n",
       "      <td>1.955431e-07</td>\n",
       "      <td>1.303621e-07</td>\n",
       "      <td>3.733096e-07</td>\n",
       "    </tr>\n",
       "    <tr>\n",
       "      <th>24</th>\n",
       "      <td>1.797416e-07</td>\n",
       "      <td>1.336540e-07</td>\n",
       "      <td>3.779183e-07</td>\n",
       "    </tr>\n",
       "    <tr>\n",
       "      <th>25</th>\n",
       "      <td>1.847694e-07</td>\n",
       "      <td>1.319781e-07</td>\n",
       "      <td>3.921636e-07</td>\n",
       "    </tr>\n",
       "    <tr>\n",
       "      <th>26</th>\n",
       "      <td>1.850594e-07</td>\n",
       "      <td>1.340086e-07</td>\n",
       "      <td>3.924536e-07</td>\n",
       "    </tr>\n",
       "    <tr>\n",
       "      <th>27</th>\n",
       "      <td>1.825069e-07</td>\n",
       "      <td>1.327323e-07</td>\n",
       "      <td>3.871358e-07</td>\n",
       "    </tr>\n",
       "    <tr>\n",
       "      <th>28</th>\n",
       "      <td>1.829949e-07</td>\n",
       "      <td>1.341962e-07</td>\n",
       "      <td>3.806294e-07</td>\n",
       "    </tr>\n",
       "    <tr>\n",
       "      <th>29</th>\n",
       "      <td>1.811970e-07</td>\n",
       "      <td>1.309858e-07</td>\n",
       "      <td>3.776758e-07</td>\n",
       "    </tr>\n",
       "    <tr>\n",
       "      <th>30</th>\n",
       "      <td>1.817168e-07</td>\n",
       "      <td>1.303621e-07</td>\n",
       "      <td>3.812103e-07</td>\n",
       "    </tr>\n",
       "    <tr>\n",
       "      <th>31</th>\n",
       "      <td>1.713256e-07</td>\n",
       "      <td>1.280434e-07</td>\n",
       "      <td>3.715061e-07</td>\n",
       "    </tr>\n",
       "    <tr>\n",
       "      <th>32</th>\n",
       "      <td>1.659154e-07</td>\n",
       "      <td>1.310731e-07</td>\n",
       "      <td>3.766279e-07</td>\n",
       "    </tr>\n",
       "  </tbody>\n",
       "</table>\n",
       "</div>"
      ],
      "text/plain": [
       "           laton         cobre        hierro\n",
       "0   4.849834e-07  4.084070e-07  6.891869e-07\n",
       "1   4.922763e-07  4.193465e-07  7.475308e-07\n",
       "2   5.246896e-07  4.112432e-07  7.374016e-07\n",
       "3   5.105088e-07  4.060866e-07  7.541607e-07\n",
       "4   5.203263e-07  3.926991e-07  7.559457e-07\n",
       "5   5.105088e-07  3.998986e-07  7.572547e-07\n",
       "6   5.030013e-07  3.978966e-07  7.432408e-07\n",
       "7   5.037916e-07  3.895988e-07  7.321771e-07\n",
       "8   5.105088e-07  4.011141e-07  7.596857e-07\n",
       "9   5.105088e-07  3.939796e-07  7.435672e-07\n",
       "10  5.054037e-07  3.930918e-07  7.504479e-07\n",
       "11  1.914408e-07  1.659154e-07  4.849834e-07\n",
       "12  2.005570e-07  1.823246e-07  5.287413e-07\n",
       "13  1.985312e-07  1.772600e-07  4.892376e-07\n",
       "14  2.030433e-07  1.798383e-07  4.931051e-07\n",
       "15  2.012583e-07  1.767146e-07  4.908739e-07\n",
       "16  1.999493e-07  1.786781e-07  4.849834e-07\n",
       "17  1.989483e-07  1.764258e-07  4.879864e-07\n",
       "18  1.947994e-07  1.712891e-07  4.769227e-07\n",
       "19  2.035958e-07  1.792858e-07  5.044313e-07\n",
       "20  1.997643e-07  1.775683e-07  4.827638e-07\n",
       "21  1.990984e-07  1.761255e-07  4.875359e-07\n",
       "22  1.908027e-07  1.327323e-07  4.064926e-07\n",
       "23  1.955431e-07  1.303621e-07  3.733096e-07\n",
       "24  1.797416e-07  1.336540e-07  3.779183e-07\n",
       "25  1.847694e-07  1.319781e-07  3.921636e-07\n",
       "26  1.850594e-07  1.340086e-07  3.924536e-07\n",
       "27  1.825069e-07  1.327323e-07  3.871358e-07\n",
       "28  1.829949e-07  1.341962e-07  3.806294e-07\n",
       "29  1.811970e-07  1.309858e-07  3.776758e-07\n",
       "30  1.817168e-07  1.303621e-07  3.812103e-07\n",
       "31  1.713256e-07  1.280434e-07  3.715061e-07\n",
       "32  1.659154e-07  1.310731e-07  3.766279e-07"
      ]
     },
     "execution_count": 16,
     "metadata": {},
     "output_type": "execute_result"
    }
   ],
   "source": [
    "rho"
   ]
  },
  {
   "cell_type": "code",
   "execution_count": 17,
   "metadata": {},
   "outputs": [
    {
     "data": {
      "text/plain": [
       "laton     2.960323e-07\n",
       "cobre     2.365126e-07\n",
       "hierro    5.393723e-07\n",
       "dtype: float64"
      ]
     },
     "execution_count": 17,
     "metadata": {},
     "output_type": "execute_result"
    }
   ],
   "source": [
    "rho.mean(axis=0)"
   ]
  },
  {
   "cell_type": "code",
   "execution_count": 18,
   "metadata": {},
   "outputs": [],
   "source": [
    "A_cobre = A-np.pi*(cobre_diam_int/2)**2"
   ]
  },
  {
   "cell_type": "code",
   "execution_count": 19,
   "metadata": {},
   "outputs": [],
   "source": [
    "rho['cobre'] = (A_cobre*df['R_cobre'])/distancia"
   ]
  },
  {
   "cell_type": "code",
   "execution_count": 20,
   "metadata": {},
   "outputs": [
    {
     "data": {
      "text/plain": [
       "laton     2.960323e-07\n",
       "cobre     1.180604e-07\n",
       "hierro    5.393723e-07\n",
       "dtype: float64"
      ]
     },
     "execution_count": 20,
     "metadata": {},
     "output_type": "execute_result"
    }
   ],
   "source": [
    "rho.mean(axis=0)"
   ]
  },
  {
   "cell_type": "code",
   "execution_count": 21,
   "metadata": {},
   "outputs": [
    {
     "data": {
      "text/plain": [
       "np.float64(4.849833658979243)"
      ]
     },
     "execution_count": 21,
     "metadata": {},
     "output_type": "execute_result"
    }
   ],
   "source": [
    "rho.iloc[0,0]*(10**7)"
   ]
  },
  {
   "cell_type": "code",
   "execution_count": null,
   "metadata": {},
   "outputs": [],
   "source": []
  }
 ],
 "metadata": {
  "kernelspec": {
   "display_name": "Python 3",
   "language": "python",
   "name": "python3"
  },
  "language_info": {
   "codemirror_mode": {
    "name": "ipython",
    "version": 3
   },
   "file_extension": ".py",
   "mimetype": "text/x-python",
   "name": "python",
   "nbconvert_exporter": "python",
   "pygments_lexer": "ipython3",
   "version": "3.13.2"
  }
 },
 "nbformat": 4,
 "nbformat_minor": 2
}
